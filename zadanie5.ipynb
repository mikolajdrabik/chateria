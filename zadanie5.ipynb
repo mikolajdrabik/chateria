{
  "nbformat": 4,
  "nbformat_minor": 0,
  "metadata": {
    "colab": {
      "provenance": []
    },
    "kernelspec": {
      "name": "python3",
      "display_name": "Python 3"
    },
    "language_info": {
      "name": "python"
    }
  },
  "cells": [
    {
      "cell_type": "code",
      "execution_count": 2,
      "metadata": {
        "id": "ywcG-B_qChZz",
        "colab": {
          "base_uri": "https://localhost:8080/",
          "height": 108
        },
        "outputId": "c2a24504-8173-48b4-935a-89ba9eb332de"
      },
      "outputs": [
        {
          "output_type": "error",
          "ename": "SyntaxError",
          "evalue": "invalid syntax (<ipython-input-2-231c480d5ef1>, line 2)",
          "traceback": [
            "\u001b[0;36m  File \u001b[0;32m\"<ipython-input-2-231c480d5ef1>\"\u001b[0;36m, line \u001b[0;32m2\u001b[0m\n\u001b[0;31m    :- dynamic ocena/3.\u001b[0m\n\u001b[0m    ^\u001b[0m\n\u001b[0;31mSyntaxError\u001b[0m\u001b[0;31m:\u001b[0m invalid syntax\n"
          ]
        }
      ],
      "source": [
        "% deklaracja ktora pozwala na dynamiczne dodawanie modyfikowanie i usuwanie faktow\n",
        ":- dynamic ocena/3.\n",
        "\n",
        "% fakty ksiazka, autor, gatunek\n",
        "ksiazka('1984', orwell, dystopia).\n",
        "ksiazka('Rok 2049', smith, dystopia).\n",
        "ksiazka('Pride and Prejudice', austen, romans).\n",
        "ksiazka('Jane Eyre', bronte, romans).\n",
        "ksiazka('The Martian', weir, science_fiction).\n",
        "ksiazka('Dune', herbert, science_fiction).\n",
        "\n",
        "% fakty ocena\n",
        "ocena(uzytkownik1, '1984', 5).\n",
        "ocena(uzytkownik1, 'Pride and Prejudice', 4).\n",
        "ocena(uzytkownik1, 'The Martian', 3).\n",
        "ocena(uzytkownik2, 'Jane Eyre', 5).\n",
        "ocena(uzytkownik2, 'Dune', 4).\n",
        "\n",
        "% fakty preferencje\n",
        "preferencje(uzytkownik1, dystopia).\n",
        "preferencje(uzytkownik2, romans).\n",
        "\n",
        "% regula rekomendacja ksiazki\n",
        "polecane_ksiazki(Uzytkownik, Gatunek, ListaKsiazek) :-\n",
        "    preferencje(Uzytkownik, Gatunek), % Sprawdza preferencje użytkownika\n",
        "    findall( % sluzy do zbierania wszystkich ksiazek spelniających warunki\n",
        "        Ksiazka,\n",
        "        (ksiazka(Ksiazka, _, Gatunek), ocena(Uzytkownik, Ksiazka, Ocena), Ocena >= 4), % ksiazka nalezy do preferowanego gatunku\n",
        "    \tListaKsiazek   % wynikowa lista spelniajaca krytera   % ksiazka ma wysoka rekomendacje 4 i powyzej (wykluczenie ksiazek przecietnych)\n",
        "        ).\n",
        "\n",
        "% przykladowe zapytanie ?- polecane_ksiazki(uzytkownik1, dystopia, Lista).\n",
        "% oczekiwana Lista = ['1984'].\n",
        "\n",
        "% przykladowe zapytanie ?- polecane_ksiazki(uzytkownik2, romans, Lista).\n",
        "% oczekiwana Lista = ['Jane Eyre'].\n",
        "\n",
        "% regula dodawanie i usuwanie ocen\n",
        "dodaj_ocene(Uzytkownik, Tytuł, Ocena) :-\n",
        "    retractall(ocena(Uzytkownik, Tytuł, _)),\n",
        "    assertz(ocena(Uzytkownik, Tytuł, Ocena)), %dodaje nowa ocene\n",
        "    format('dodano ocene~n'). % wyswietla nowa\n",
        "% przykladowe zapytania ?- dodaj_ocene(uzytkownik1, 'Rok 2049', 4).\n",
        "% oczekiwana dodano ocene\n",
        "\n",
        "usun_ocene(Uzytkownik, Tytul) :-\n",
        "    retract(ocena(Uzytkownik, Tytul, _)), % usuwa ocene\n",
        "    format('usunieto ocene~n'). % wyswietla wiadomosc o usunnieciu oceny"
      ]
    },
    {
      "cell_type": "code",
      "source": [],
      "metadata": {
        "id": "dwMI2qws5sb6"
      },
      "execution_count": null,
      "outputs": []
    }
  ]
}