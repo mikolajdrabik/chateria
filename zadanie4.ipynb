{
  "nbformat": 4,
  "nbformat_minor": 0,
  "metadata": {
    "colab": {
      "provenance": []
    },
    "kernelspec": {
      "name": "python3",
      "display_name": "Python 3"
    },
    "language_info": {
      "name": "python"
    }
  },
  "cells": [
    {
      "cell_type": "code",
      "execution_count": 2,
      "metadata": {
        "id": "i-APpcWJCYAo",
        "colab": {
          "base_uri": "https://localhost:8080/",
          "height": 108
        },
        "outputId": "aaf59727-f489-4ab9-da6d-67178c6ba872"
      },
      "outputs": [
        {
          "output_type": "error",
          "ename": "IndentationError",
          "evalue": "unindent does not match any outer indentation level (<tokenize>, line 44)",
          "traceback": [
            "\u001b[0;36m  File \u001b[0;32m\"<tokenize>\"\u001b[0;36m, line \u001b[0;32m44\u001b[0m\n\u001b[0;31m    T is T1 + T2, % suma czasu calkowitego\u001b[0m\n\u001b[0m    ^\u001b[0m\n\u001b[0;31mIndentationError\u001b[0m\u001b[0;31m:\u001b[0m unindent does not match any outer indentation level\n"
          ]
        }
      ],
      "source": [
        "% fakty miasta\n",
        "miasto(londyn).\n",
        "miasto(manchester).\n",
        "miasto(birmingham).\n",
        "miasto(liverpool).\n",
        "miasto(leeds).\n",
        "\n",
        "% fakty droga\n",
        "droga(londyn, manchester, 5).\n",
        "droga(manchester, birmingham, 4).\n",
        "droga(birmingham, liverpool, 3).\n",
        "droga(liverpool, leeds, 2).\n",
        "droga(londyn, birmingham, 7).\n",
        "\n",
        "% regula dla bezposredniego polaczenia\n",
        "droga_bezposrednia(X, Y) :- % definiujemy podobnie jak w zadaniu 2\n",
        "    droga(X, Y, _);\n",
        "    droga(Y, X, _).\n",
        "% przykladowe zapytanie ?- droga_bezposrednia(londyn, manchester).\n",
        "% oczekiwana true\n",
        "% przykladowe zapytanie ?- droga_bezposrednia(londyn, liverpool).\n",
        "% oczekiwana false\n",
        "\n",
        "% regula okreslajaca czas przejazdu przy polaczeniu bezposrednim\n",
        "czas_przejazdu(X, Y, T) :-\n",
        "    droga(X, Y, T).\n",
        "% przykladowe zapytanie ?- czas_przejazdu(londyn, manchester, T).\n",
        "% oczekiwana T = 5\n",
        "\n",
        "% regula dla posredniego polacznia\n",
        "czas_przejazdu(X, Y, T) :-\n",
        "    droga(X, Z, T1),        % droga z pierwszego punktu do punktu posredniego\n",
        "    czas_przejazdu(Z, Y, T2), % droga z punktu posredniego do punktu docelowego\n",
        "    X \\= Y, % sprawdza czy miasta sa rozne\n",
        "    T is T1 + T2. % suma wszystkich czasów\n",
        "\n",
        "% przykladowe zapytanie ?- czas_przejazdu(londyn, leeds, T).\n",
        "% oczekiwnana T = 14\n",
        "\n",
        "% regula wyznaczajaca najkrotszy calkowitym czasem przejazdu miedzy miastem X a Y\n",
        "najkrotsza_trasa(X,Y) :-\n",
        "      droga(X, Z, T1), % uzwgledniamy trase posrednia\n",
        "      droga(Z, Y, T2),\n",
        "    T is T1 + T2, % suma czasu calkowitego\n",
        "    format('Trasa przez ~w, czas ~w~n', [Z, T]). % o \"foramt\" pisalem juz w poprzednich zadaniach"
      ]
    }
  ]
}